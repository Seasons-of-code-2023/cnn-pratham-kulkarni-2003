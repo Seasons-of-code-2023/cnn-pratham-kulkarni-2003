{
 "cells": [
  {
   "cell_type": "code",
   "execution_count": 23,
   "metadata": {},
   "outputs": [],
   "source": [
    "import pandas as pd\n",
    "import tensorflow\n",
    "import numpy as np\n",
    "import matplotlib.pyplot as plt\n",
    "from tensorflow import keras"
   ]
  },
  {
   "cell_type": "code",
   "execution_count": 24,
   "metadata": {},
   "outputs": [],
   "source": [
    "(x_train, y_train), (x_test, y_test) = keras.datasets.cifar10.load_data()"
   ]
  },
  {
   "cell_type": "code",
   "execution_count": 25,
   "metadata": {},
   "outputs": [],
   "source": [
    "x_train = x_train.astype(\"float32\") / 255.0\n",
    "x_test = x_test.astype(\"float32\") / 255.0\n",
    "y_train = keras.utils.to_categorical(y_train, num_classes=10)\n",
    "y_test = keras.utils.to_categorical(y_test, num_classes=10)"
   ]
  },
  {
   "cell_type": "code",
   "execution_count": 26,
   "metadata": {},
   "outputs": [],
   "source": [
    "model = keras.Sequential([\n",
    "    keras.layers.Conv2D(32, (3, 3), activation=\"relu\", padding=\"same\", input_shape=(32, 32, 3)),\n",
    "    keras.layers.Conv2D(32, (3, 3), activation=\"relu\"),\n",
    "    keras.layers.MaxPooling2D((2, 2)),\n",
    "    keras.layers.Dropout(0.25),\n",
    "    keras.layers.Conv2D(64, (3, 3), activation=\"relu\", padding=\"same\"),\n",
    "    keras.layers.Conv2D(64, (3, 3), activation=\"relu\"),\n",
    "    keras.layers.MaxPooling2D((2, 2)),\n",
    "    keras.layers.Dropout(0.25),\n",
    "    keras.layers.Flatten(),\n",
    "    keras.layers.Dense(512, activation=\"relu\"),\n",
    "    keras.layers.Dropout(0.5),\n",
    "    keras.layers.Dense(10, activation=\"softmax\")])\n",
    "model.compile(optimizer=\"adam\",\n",
    "              loss=\"categorical_crossentropy\",\n",
    "              metrics=[\"accuracy\"])"
   ]
  },
  {
   "cell_type": "code",
   "execution_count": 27,
   "metadata": {},
   "outputs": [
    {
     "name": "stdout",
     "output_type": "stream",
     "text": [
      "Epoch 1/10\n",
      "352/352 [==============================] - 76s 213ms/step - loss: 1.6676 - accuracy: 0.3918 - val_loss: 1.3503 - val_accuracy: 0.5224\n",
      "Epoch 2/10\n",
      "352/352 [==============================] - 78s 221ms/step - loss: 1.2623 - accuracy: 0.5512 - val_loss: 1.1103 - val_accuracy: 0.6174\n",
      "Epoch 3/10\n",
      "352/352 [==============================] - 80s 226ms/step - loss: 1.0828 - accuracy: 0.6171 - val_loss: 0.9175 - val_accuracy: 0.6850\n",
      "Epoch 4/10\n",
      "352/352 [==============================] - 80s 226ms/step - loss: 0.9514 - accuracy: 0.6666 - val_loss: 0.8071 - val_accuracy: 0.7252\n",
      "Epoch 5/10\n",
      "352/352 [==============================] - 84s 238ms/step - loss: 0.8757 - accuracy: 0.6937 - val_loss: 0.7667 - val_accuracy: 0.7376\n",
      "Epoch 6/10\n",
      "352/352 [==============================] - 80s 226ms/step - loss: 0.8082 - accuracy: 0.7168 - val_loss: 0.7542 - val_accuracy: 0.7434\n",
      "Epoch 7/10\n",
      "352/352 [==============================] - 79s 224ms/step - loss: 0.7594 - accuracy: 0.7342 - val_loss: 0.7096 - val_accuracy: 0.7590\n",
      "Epoch 8/10\n",
      "352/352 [==============================] - 80s 226ms/step - loss: 0.7135 - accuracy: 0.7486 - val_loss: 0.6554 - val_accuracy: 0.7728\n",
      "Epoch 9/10\n",
      "352/352 [==============================] - 79s 224ms/step - loss: 0.6783 - accuracy: 0.7616 - val_loss: 0.6550 - val_accuracy: 0.7804\n",
      "Epoch 10/10\n",
      "352/352 [==============================] - 80s 227ms/step - loss: 0.6375 - accuracy: 0.7762 - val_loss: 0.6608 - val_accuracy: 0.7758\n",
      "313/313 [==============================] - 7s 21ms/step - loss: 0.6928 - accuracy: 0.7627\n",
      "Test loss: 0.6928\n",
      "Test accuracy: 0.7627\n"
     ]
    }
   ],
   "source": [
    "model.fit(x_train, y_train, batch_size=128, epochs=10, validation_split=0.1)\n",
    "loss, accuracy = model.evaluate(x_test, y_test)\n",
    "print(f\"Test loss: {loss:.4f}\")\n",
    "print(f\"Test accuracy: {accuracy:.4f}\")"
   ]
  },
  {
   "cell_type": "code",
   "execution_count": null,
   "metadata": {},
   "outputs": [],
   "source": []
  }
 ],
 "metadata": {
  "kernelspec": {
   "display_name": "Python 3",
   "language": "python",
   "name": "python3"
  },
  "language_info": {
   "codemirror_mode": {
    "name": "ipython",
    "version": 3
   },
   "file_extension": ".py",
   "mimetype": "text/x-python",
   "name": "python",
   "nbconvert_exporter": "python",
   "pygments_lexer": "ipython3",
   "version": "3.11.3"
  },
  "orig_nbformat": 4
 },
 "nbformat": 4,
 "nbformat_minor": 2
}
