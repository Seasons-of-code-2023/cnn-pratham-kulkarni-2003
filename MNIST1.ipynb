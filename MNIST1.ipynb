{
 "cells": [
  {
   "cell_type": "code",
   "execution_count": 1,
   "metadata": {},
   "outputs": [],
   "source": [
    "import pandas as pd\n",
    "import tensorflow\n",
    "import numpy as np\n",
    "import matplotlib.pyplot as plt\n",
    "from tensorflow import keras"
   ]
  },
  {
   "cell_type": "code",
   "execution_count": 2,
   "metadata": {},
   "outputs": [
    {
     "data": {
      "text/plain": [
       "(60000, 28, 28, 1)"
      ]
     },
     "execution_count": 2,
     "metadata": {},
     "output_type": "execute_result"
    }
   ],
   "source": [
    "(x_train, y_train), (x_test, y_test) = keras.datasets.mnist.load_data()\n",
    "x_train = x_train.reshape(-1, 28, 28, 1).astype(\"float32\") / 255.0\n",
    "x_test = x_test.reshape(-1, 28, 28, 1).astype(\"float32\") / 255.0\n",
    "x_train.shape"
   ]
  },
  {
   "cell_type": "code",
   "execution_count": 3,
   "metadata": {},
   "outputs": [],
   "source": [
    "#model=keras.Sequential([\n",
    "    #keras.layers.Dense(16,input_shape=(2,),activation='relu'),\n",
    "    #keras.layers.Dense(2,activation='sigmoid')])\n",
    "\n",
    "model = keras.Sequential([\n",
    "    keras.layers.Conv2D(32, (3, 3), activation=\"relu\", input_shape=(28, 28, 1)),\n",
    "    keras.layers.MaxPooling2D((2, 2)),\n",
    "    keras.layers.Conv2D(64, (3, 3), activation=\"relu\"),\n",
    "    keras.layers.MaxPooling2D((2, 2)),\n",
    "    keras.layers.Flatten(),\n",
    "    keras.layers.Dense(64, activation=\"relu\"),\n",
    "    keras.layers.Dense(10, activation=\"softmax\")\n",
    "])\n",
    "model.compile(optimizer='adam',loss='sparse_categorical_crossentropy',metrics=['accuracy'])"
   ]
  },
  {
   "cell_type": "code",
   "execution_count": 4,
   "metadata": {},
   "outputs": [
    {
     "name": "stdout",
     "output_type": "stream",
     "text": [
      "Epoch 1/10\n",
      "422/422 [==============================] - 25s 53ms/step - loss: 0.2725 - accuracy: 0.9210 - val_loss: 0.0747 - val_accuracy: 0.9803\n",
      "Epoch 2/10\n",
      "422/422 [==============================] - 22s 52ms/step - loss: 0.0691 - accuracy: 0.9788 - val_loss: 0.0559 - val_accuracy: 0.9848\n",
      "Epoch 3/10\n",
      "422/422 [==============================] - 21s 50ms/step - loss: 0.0499 - accuracy: 0.9850 - val_loss: 0.0462 - val_accuracy: 0.9873\n",
      "Epoch 4/10\n",
      "422/422 [==============================] - 22s 51ms/step - loss: 0.0400 - accuracy: 0.9879 - val_loss: 0.0411 - val_accuracy: 0.9900\n",
      "Epoch 5/10\n",
      "422/422 [==============================] - 22s 51ms/step - loss: 0.0322 - accuracy: 0.9904 - val_loss: 0.0388 - val_accuracy: 0.9893\n",
      "Epoch 6/10\n",
      "422/422 [==============================] - 21s 51ms/step - loss: 0.0278 - accuracy: 0.9915 - val_loss: 0.0430 - val_accuracy: 0.9878\n",
      "Epoch 7/10\n",
      "422/422 [==============================] - 22s 52ms/step - loss: 0.0227 - accuracy: 0.9927 - val_loss: 0.0359 - val_accuracy: 0.9903\n",
      "Epoch 8/10\n",
      "422/422 [==============================] - 22s 51ms/step - loss: 0.0199 - accuracy: 0.9936 - val_loss: 0.0386 - val_accuracy: 0.9893\n",
      "Epoch 9/10\n",
      "422/422 [==============================] - 21s 51ms/step - loss: 0.0168 - accuracy: 0.9949 - val_loss: 0.0358 - val_accuracy: 0.9907\n",
      "Epoch 10/10\n",
      "422/422 [==============================] - 21s 51ms/step - loss: 0.0132 - accuracy: 0.9961 - val_loss: 0.0419 - val_accuracy: 0.9888\n",
      "313/313 [==============================] - 2s 7ms/step - loss: 0.0348 - accuracy: 0.9894\n",
      "Test loss: 0.0348\n",
      "Test accuracy: 0.9894\n"
     ]
    }
   ],
   "source": [
    "model.fit(x_train, y_train, batch_size=128, epochs=10, validation_split=0.1)\n",
    "loss, accuracy = model.evaluate(x_test, y_test)\n",
    "print(f\"Test loss: {loss:.4f}\")\n",
    "print(f\"Test accuracy: {accuracy:.4f}\")"
   ]
  },
  {
   "cell_type": "code",
   "execution_count": null,
   "metadata": {},
   "outputs": [],
   "source": []
  }
 ],
 "metadata": {
  "kernelspec": {
   "display_name": "Python 3",
   "language": "python",
   "name": "python3"
  },
  "language_info": {
   "codemirror_mode": {
    "name": "ipython",
    "version": 3
   },
   "file_extension": ".py",
   "mimetype": "text/x-python",
   "name": "python",
   "nbconvert_exporter": "python",
   "pygments_lexer": "ipython3",
   "version": "3.11.3"
  },
  "orig_nbformat": 4
 },
 "nbformat": 4,
 "nbformat_minor": 2
}
